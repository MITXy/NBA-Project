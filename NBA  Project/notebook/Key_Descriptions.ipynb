{
 "cells": [
  {
   "cell_type": "markdown",
   "id": "6cdfdd9c",
   "metadata": {},
   "source": [
    "***\n",
    "# Key Discriptions\n",
    "***"
   ]
  },
  {
   "cell_type": "markdown",
   "id": "84c51555",
   "metadata": {},
   "source": [
    "\n",
    "Author: Ridwan Amokun (Data Scientist) |\n",
    "[LinkedIn](https://www.linkedin.com/in/ridwan-amokun/) |\n",
    "[Medium](https://medium.com/@amokunridwan) |\n",
    "[Twitter](https://twitter.com/Markyrrh) |\n",
    "[GitHub](https://www.github.com/MITXy)"
   ]
  },
  {
   "cell_type": "markdown",
   "id": "1ec07b86",
   "metadata": {},
   "source": [
    "****\n",
    "## Elo scores:\n",
    "****\n",
    "\n",
    "`Elo scores are a rating system used in many competitive games to rank players based on their skill. The Elo rating system was originally invented by Arpad Elo, a Hungarian-American physics professor, for chess. The Elo rating system has since been adopted by many other games, including Go, Shogi, and even video games like League of Legends and Dota 2.`\n",
    "\n",
    "The Elo rating system works by assigning each player a rating based on their performance in matches. When two players of different ratings compete, the winner is expected to gain rating points and the loser is expected to lose rating points. The amount of rating points that are gained or lost depends on the difference in the players' ratings. For example, a player with a rating of 1500 is expected to beat a player with a rating of 1000 about 75% of the time. If the player with a rating of 1500 does beat the player with a rating of 1000, they will only gain a few rating points. However, if the player with a rating of 1000 beats the player with a rating of 1500, they will gain a significant number of rating points.\n",
    "\n",
    "The Elo rating system is a simple but effective way to rank players based on their skill. It is easy to understand and it has been shown to be a reliable predictor of future performance.\n",
    "\n",
    "Here are some of the advantages of Elo scores:\n",
    "\n",
    "* They are easy to understand and use.\n",
    "* They are a reliable predictor of future performance.\n",
    "* They are objective and fair.\n",
    "\n",
    "Here are some of the disadvantages of Elo scores:\n",
    "\n",
    "* They can be sensitive to small sample sizes.\n",
    "* They can be difficult to calculate manually.\n",
    "* They can be gamed by players who are trying to manipulate their ratings.\n",
    "\n",
    "Overall, Elo scores are a valuable tool for ranking players in competitive games. They are easy to understand, reliable, and objective. However, it is important to be aware of their limitations, such as their sensitivity to small sample sizes and their potential to be gamed."
   ]
  },
  {
   "cell_type": "markdown",
   "id": "47233057",
   "metadata": {},
   "source": [
    "****\n",
    "## Defensive Rating Accounting for Yielding Minimal Openness by Nearest Defender\n",
    "***\n",
    "DRAYMOND is a metric that is used to evaluate a player's defense. It is calculated by taking the following factors into account:\n",
    "\n",
    "* **Defensive rating:** This is a measure of how many points a team allows per 100 possessions when a player is on the court.\n",
    "* **Defensive win shares:** This is a measure of how many wins a player contributes to their team's defense.\n",
    "* **Defensive Box Plus/Minus:** This is a measure of how many points a player contributes to their team's defense per 100 possessions.\n",
    "* **Steals:** This is a measure of how many steals a player gets per game.\n",
    "* **Blocks:** This is a measure of how many blocks a player gets per game.\n",
    "\n",
    "To calculate DRAYMOND for a player, you would first need to calculate the player's defensive rating, defensive win shares, defensive Box Plus/Minus, steals, and blocks. Then, you would take the average of those five numbers.\n",
    "\n",
    "For example, let's say that a player has a defensive rating of 100, defensive win shares of 2.0, defensive Box Plus/Minus of 2.5, steals of 2.0, and blocks of 1.0. Their DRAYMOND would be calculated as follows:\n",
    "\n",
    "`\n",
    "(100 + 2.0 + 2.5 + 2.0 + 1.0) / 5 = 1.8\n",
    "`\n",
    "\n",
    "This player would have a DRAYMOND of 1.8.\n",
    "\n",
    "A higher DRAYMOND score indicates that a player is a better defender. A DRAYMOND score of 0 is average, while a DRAYMOND score of 2 is excellent.\n",
    "\n",
    "DRAYMOND is a useful metric for evaluating a player's defense. It takes into account a variety of factors, including defensive rating, defensive win shares, defensive Box Plus/Minus, steals, and blocks. This makes it a more comprehensive measure of a player's defensive impact than any single statistic."
   ]
  },
  {
   "cell_type": "code",
   "execution_count": null,
   "id": "ec6e52f9",
   "metadata": {},
   "outputs": [],
   "source": []
  }
 ],
 "metadata": {
  "kernelspec": {
   "display_name": "Python 3 (ipykernel)",
   "language": "python",
   "name": "python3"
  },
  "language_info": {
   "codemirror_mode": {
    "name": "ipython",
    "version": 3
   },
   "file_extension": ".py",
   "mimetype": "text/x-python",
   "name": "python",
   "nbconvert_exporter": "python",
   "pygments_lexer": "ipython3",
   "version": "3.9.13"
  }
 },
 "nbformat": 4,
 "nbformat_minor": 5
}
